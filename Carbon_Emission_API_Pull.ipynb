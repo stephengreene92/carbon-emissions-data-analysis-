{
 "cells": [
  {
   "cell_type": "code",
   "execution_count": 2,
   "id": "50adecda",
   "metadata": {},
   "outputs": [],
   "source": [
    "import pandas as pd\n",
    "import numpy as np\n",
    "import requests\n",
    "\n",
    "#Emission categories\n",
    "API_Methane_Call_List = []\n",
    "API_Carbonmonoxide_Call_List = []\n",
    "API_Ozone_Call_List = []\n",
    "API_Nitrogendioxide_Call_List = []\n",
    "\n",
    "#Query range\n",
    "Start_Date = \"2017-01-01\"\n",
    "End_Date = \"2022-01-01\"\n",
    "\n",
    "\n",
    "# State, Longitude, Latitude requests \n",
    "State_Names = [\"Alabama\", \"Alaska\", \"Arizona\", \"Arkansas\", \"California\", \"Colorado\", \"Connecticut\", \"Delaware\",\n",
    "               \"District_of_Columbia\", \"Florida\", \"Georgia\", \"Hawaii\", \"Idaho\", \"Illinois\", \"Indiana\", \"Iowa\",\n",
    "              \"Kansas\", \"Kentucky\", \"Louisiana\", \"Maine\", \"Maryland\", \"Massachusetts\", \"Michigan\", \"Minnesota\",\n",
    "               \"Missouri\", \"Montana\", \"Nebraska\", \"New_Hampshire\", \"New_Jersey\", \"New_Mexico\", \"New_York\", \n",
    "               \"North_Carolina\", \"North_Dakota\", \"Ohio\", \"Oklahoma\", \"Oregon\", \"Pennsylvania\", \"Rhode_Island\",\n",
    "              \"South_Carolina\", \"South_Dakota\", \"Tennessee\", \"Texas\", \"Utah\", \"Vermont\", \"Virginia\",\n",
    "              \"West_Virginia\", \"Wisonsin\", \"Wyoming\"]\n",
    "\n",
    "State_Longitude = [\"-86.8287\", \"-152.2782\", \"-111.6602\", \"-92.4426\", \"-119.4696\", \"-105.5478\", \"-72.7273\",\n",
    "                  \"-75.5050\", \"-77.0147\", \"-82.4497\", \"-83.4426\", \"-156.3737\", \"-114.6130\", \"-89.1965\",\n",
    "                 \"-86.2816\", \"-93.4960\", \"-98.3804\", \"85.3021\", \"91.9968\", \"-69.2428\", \"-76.7909\", \n",
    "                 \"-71.8083\", \"85.4102\", \"-94.3053\", \"-89.6678\", \"-92.4580\", \"-109.6333\", \"-99.7951\",\n",
    "                  \"-116.6312\", \"-71.5811\", \"-74.6728\", \"-106.1126\", \"-75.5268\", \"-79.3877\", \"-100.4659\",\n",
    "                  \"-82.7937\", \"-97.4943\", \"-120.5583\", \"-77.7996\", \"-71.5562\", \"-80.8964\", \"-100.2263\",\n",
    "                  \"-86.3505\", \"-99.3312\", \"-111.6703\", \"-72.6658\", \"-78.8537\", \"-120.4472\", \"-80.6227\",\n",
    "                  \"-89.9941\", \"-107.5512\"]\n",
    "\n",
    "State_Latitude = [\"32.7794\", \"64.0685\", \"34.2744\", \"34.8938\", \"37.1841\", \"38.9972\", \"41.6219\", \"38.9896\",\n",
    "                 \"38.9101\", \"28.6305\", \"32.6415\", \"20.2927\", \"44.3509\", \"40.0417\", \"39.8942\", \"42.0751\",\n",
    "                 \"38.4937\", \"37.5347\", \"31.0689\", \"45.3695\", \"39.0550\", \"42.2596\", \"44.3467\", \"46.2807\",\n",
    "                 \"32.7364\", \"38.3566\", \"47.0527\", \"41.5378\", \"39.3289\", \"43.6805\", \"40.1907\", \"34.4071\",\n",
    "                 \"42.9538\", \"35.5557\", \"47.4501\", \"40.2862\", \"35.5889\", \"43.9336\", \"40.8781\", \"41.6762\",\n",
    "                 \"33.9169\", \"44.4443\", \"35.8580\", \"31.4757\", \"39.3055\", \"44.0687\", \"37.5215\", \"47.3826\",\n",
    "                 \"38.6409\", \"44.6243\", \"42.9957\"]\n",
    "\n",
    "Gas_Types = [\"methane\", \"carbonmonoxide\", \"ozone\", \"nitrogendioxide\"]\n",
    "\n",
    "for i in range(len(State_Names)):\n",
    "    Curr_State_Name = State_Names[i]\n",
    "    Curr_State_Longitude = State_Longitude[i]\n",
    "    Curr_State_Latitude = State_Latitude[i]\n",
    "    for j in range(len(Gas_Types)):\n",
    "        Curr_Gas_Types = Gas_Types[j]\n",
    "        if Curr_Gas_Types == \"methane\":\n",
    "            API_Call_Build = Curr_Gas_Types + \"/statistics.json?point=\" + Curr_State_Longitude +\"&point=\"+ Curr_State_Latitude + \"&interval=hour&begin=\" + Start_Date + \"&end=\" + End_Date + \"&limit=5000&offset=0&state=\"+Curr_State_Name+\"&Gas=\"+Curr_Gas_Types\n",
    "            API_Methane_Call_List.append(API_Call_Build)\n",
    "        elif Curr_Gas_Types == \"carbonmonoxide\":\n",
    "            API_Call_Build = Curr_Gas_Types + \"/statistics.json?point=\" + Curr_State_Longitude + \"&point=\"+ Curr_State_Latitude + \"&interval=hour&begin=\" + Start_Date + \"&end=\" + End_Date + \"&limit=5000&offset=0&state=\"+Curr_State_Name+\"&Gas=\"+Curr_Gas_Types\n",
    "            API_Carbonmonoxide_Call_List.append(API_Call_Build)\n",
    "        elif Curr_Gas_Types == \"ozone\":\n",
    "            API_Call_Build = Curr_Gas_Types + \"/statistics.json?point=\" + Curr_State_Longitude + \"&point=\"+ Curr_State_Latitude + \"&interval=hour&begin=\" + Start_Date + \"&end=\" + End_Date + \"&limit=5000&offset=0&state=\"+Curr_State_Name+\"&Gas=\"+Curr_Gas_Types\n",
    "            API_Ozone_Call_List.append(API_Call_Build)\n",
    "        else:\n",
    "            API_Call_Build = Curr_Gas_Types + \"/statistics.json?point=\" + Curr_State_Longitude + \"&point=\"+ Curr_State_Latitude + \"&interval=hour&begin=\" + Start_Date + \"&end=\" + End_Date + \"&limit=5000&offset=0&state=\"+Curr_State_Name+\"&Gas=\"+Curr_Gas_Types\n",
    "            API_Nitrogendioxide_Call_List.append(API_Call_Build)\n",
    "        \n",
    "\n",
    "\n"
   ]
  },
  {
   "cell_type": "code",
   "execution_count": 3,
   "id": "d95d9e57",
   "metadata": {},
   "outputs": [
    {
     "data": {
      "text/plain": [
       "48"
      ]
     },
     "execution_count": 3,
     "metadata": {},
     "output_type": "execute_result"
    }
   ],
   "source": [
    "len(API_Carbonmonoxide_Call_List)"
   ]
  },
  {
   "cell_type": "code",
   "execution_count": 4,
   "id": "435f9e08",
   "metadata": {},
   "outputs": [
    {
     "data": {
      "text/plain": [
       "48"
      ]
     },
     "execution_count": 4,
     "metadata": {},
     "output_type": "execute_result"
    }
   ],
   "source": [
    "len(API_Methane_Call_List)"
   ]
  },
  {
   "cell_type": "code",
   "execution_count": 5,
   "id": "668b2b95",
   "metadata": {},
   "outputs": [
    {
     "data": {
      "text/plain": [
       "48"
      ]
     },
     "execution_count": 5,
     "metadata": {},
     "output_type": "execute_result"
    }
   ],
   "source": [
    "len(API_Ozone_Call_List)"
   ]
  },
  {
   "cell_type": "code",
   "execution_count": 6,
   "id": "047c4b3f",
   "metadata": {},
   "outputs": [
    {
     "data": {
      "text/plain": [
       "48"
      ]
     },
     "execution_count": 6,
     "metadata": {},
     "output_type": "execute_result"
    }
   ],
   "source": [
    "len(API_Nitrogendioxide_Call_List)"
   ]
  },
  {
   "cell_type": "code",
   "execution_count": 7,
   "id": "1506581d",
   "metadata": {},
   "outputs": [
    {
     "name": "stdout",
     "output_type": "stream",
     "text": [
      "Stored 'API_Methane_Call_List' (list)\n",
      "Stored 'API_Carbonmonoxide_Call_List' (list)\n",
      "Stored 'API_Ozone_Call_List' (list)\n",
      "Stored 'API_Nitrogendioxide_Call_List' (list)\n"
     ]
    }
   ],
   "source": [
    "%store API_Methane_Call_List\n",
    "%store API_Carbonmonoxide_Call_List\n",
    "%store API_Ozone_Call_List\n",
    "%store API_Nitrogendioxide_Call_List"
   ]
  }
 ],
 "metadata": {
  "interpreter": {
   "hash": "b9166679b7960eae5ec60905c6de7fbf69f74d8b9abd3b590631149d05e19d3c"
  },
  "kernelspec": {
   "display_name": "Python 3.10.1 64-bit",
   "language": "python",
   "name": "python3"
  },
  "language_info": {
   "codemirror_mode": {
    "name": "ipython",
    "version": 3
   },
   "file_extension": ".py",
   "mimetype": "text/x-python",
   "name": "python",
   "nbconvert_exporter": "python",
   "pygments_lexer": "ipython3",
   "version": "3.10.1"
  }
 },
 "nbformat": 4,
 "nbformat_minor": 5
}
