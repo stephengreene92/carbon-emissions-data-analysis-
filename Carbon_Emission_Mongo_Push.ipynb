{
 "cells": [
  {
   "cell_type": "code",
   "execution_count": 2,
   "id": "f5e153ae",
   "metadata": {},
   "outputs": [],
   "source": [
    "import requests\n",
    "import sys\n",
    "\n",
    "API_Methane_Call_List = []\n",
    "API_Carbonmonoxide_Call_List = []\n",
    "API_Ozone_Call_List = []\n",
    "API_Nitrogendioxide_Call_List = []\n",
    "\n",
    "%store -r API_Methane_Call_List\n",
    "%store -r API_Carbonmonoxide_Call_List\n",
    "%store -r API_Ozone_Call_List\n",
    "%store -r API_Nitrogendioxide_Call_List"
   ]
  },
  {
   "cell_type": "code",
   "execution_count": 3,
   "id": "b0e25dea",
   "metadata": {},
   "outputs": [
    {
     "name": "stdout",
     "output_type": "stream",
     "text": [
      "Success 48 of 48\n",
      "\n",
      "Success 48 of 48\n",
      "\n",
      "Success 48 of 48\n",
      "\n",
      "Success 48 of 48\n",
      "\n"
     ]
    }
   ],
   "source": [
    "MT_Posts = []\n",
    "CM_Posts = []\n",
    "OZ_Posts = []\n",
    "ND_Posts = []\n",
    "\n",
    "for i in range(len(API_Methane_Call_List)):\n",
    "    url = 'https://api.v2.emissions-api.org/api/v2/' + API_Methane_Call_List[i]\n",
    "    state_pointer = url.split(\"&\")[7]\n",
    "    state_sub_pointer = state_pointer.split(\"=\")[1]\n",
    "    \n",
    "    gas_pointer = url.split(\"&\")[8]\n",
    "    gas_sub_pointer = gas_pointer.split(\"=\")[1]\n",
    "    \n",
    "    insert_tags = {\"State\":state_sub_pointer,\"Gas\":gas_sub_pointer}\n",
    "    \n",
    "    r = requests.get(url)\n",
    "    json_data = r.json()\n",
    "    \n",
    "    if r.status_code == 200:\n",
    "        print(\"Success \"+ str(i+1) +\" of \"+str(len(API_Methane_Call_List)), end='\\r')\n",
    "    else:\n",
    "        print(\"Error with \"+url, end = '\\n')\n",
    "    \n",
    "    for doc in range(len(json_data)):\n",
    "        json_data[doc].get(\"value\").update(insert_tags)\n",
    "    \n",
    "    MT_Posts.extend(json_data)\n",
    "\n",
    "print(\"\\n\")\n",
    "\n",
    "for j in range(len(API_Carbonmonoxide_Call_List)):\n",
    "    url = 'https://api.v2.emissions-api.org/api/v2/' + API_Carbonmonoxide_Call_List[j]\n",
    "    \n",
    "    state_pointer = url.split(\"&\")[7]\n",
    "    state_sub_pointer = state_pointer.split(\"=\")[1]\n",
    "    \n",
    "    gas_pointer = url.split(\"&\")[8]\n",
    "    gas_sub_pointer = gas_pointer.split(\"=\")[1]\n",
    "    \n",
    "    insert_tags = {\"State\":state_sub_pointer,\"Gas\":gas_sub_pointer}\n",
    "    \n",
    "    r = requests.get(url)\n",
    "    json_data = r.json()\n",
    "    \n",
    "    if r.status_code == 200:\n",
    "        print(\"Success \"+ str(j+1) +\" of \"+str(len(API_Carbonmonoxide_Call_List)), end='\\r')\n",
    "    else:\n",
    "        print(\"Error with \"+url, end = '\\n')\n",
    "\n",
    "    for doc in range(len(json_data)):\n",
    "        json_data[doc].get(\"value\").update(insert_tags)\n",
    "\n",
    "    CM_Posts.extend(json_data)\n",
    "\n",
    "print(\"\\n\")\n",
    "\n",
    "for k in range(len(API_Ozone_Call_List)):\n",
    "    url = 'https://api.v2.emissions-api.org/api/v2/' + API_Ozone_Call_List[k]\n",
    "    \n",
    "    state_pointer = url.split(\"&\")[7]\n",
    "    state_sub_pointer = state_pointer.split(\"=\")[1]\n",
    "    \n",
    "    gas_pointer = url.split(\"&\")[8]\n",
    "    gas_sub_pointer = gas_pointer.split(\"=\")[1]\n",
    "    \n",
    "    insert_tags = {\"State\":state_sub_pointer,\"Gas\":gas_sub_pointer}\n",
    "    \n",
    "    r = requests.get(url)\n",
    "    json_data = r.json()\n",
    "    \n",
    "    if r.status_code == 200:\n",
    "        print(\"Success \"+ str(k+1) +\" of \"+str(len(API_Ozone_Call_List)), end='\\r')\n",
    "    else:\n",
    "        print(\"Error with \"+url, end = '\\n')\n",
    "        \n",
    "    for doc in range(len(json_data)):\n",
    "        json_data[doc].get(\"value\").update(insert_tags)\n",
    "        \n",
    "    OZ_Posts.extend(json_data)\n",
    "    \n",
    "print(\"\\n\")\n",
    "\n",
    "    \n",
    "for l in range(len(API_Nitrogendioxide_Call_List)):\n",
    "    url = 'https://api.v2.emissions-api.org/api/v2/' + API_Nitrogendioxide_Call_List[l]\n",
    "    \n",
    "    state_pointer = url.split(\"&\")[7]\n",
    "    state_sub_pointer = state_pointer.split(\"=\")[1]\n",
    "    \n",
    "    gas_pointer = url.split(\"&\")[8]\n",
    "    gas_sub_pointer = gas_pointer.split(\"=\")[1]\n",
    "    \n",
    "    insert_tags = {\"State\":state_sub_pointer,\"Gas\":gas_sub_pointer}\n",
    "    \n",
    "    r = requests.get(url)\n",
    "    json_data = r.json()\n",
    "    \n",
    "    if r.status_code == 200:\n",
    "        print(\"Success \"+ str(l+1) +\" of \"+str(len(API_Nitrogendioxide_Call_List)), end='\\r')\n",
    "    else:\n",
    "        print(\"Error with \"+url, end = '\\n')\n",
    "\n",
    "    for doc in range(len(json_data)):\n",
    "        json_data[doc].get(\"value\").update(insert_tags)\n",
    "\n",
    "    ND_Posts.extend(json_data)\n",
    "    \n",
    "print(\"\\n\")"
   ]
  },
  {
   "cell_type": "code",
   "execution_count": 4,
   "id": "3ffe915a",
   "metadata": {},
   "outputs": [
    {
     "data": {
      "text/plain": [
       "6618"
      ]
     },
     "execution_count": 4,
     "metadata": {},
     "output_type": "execute_result"
    }
   ],
   "source": [
    "len(MT_Posts)"
   ]
  },
  {
   "cell_type": "code",
   "execution_count": 5,
   "id": "163d6adb",
   "metadata": {},
   "outputs": [
    {
     "data": {
      "text/plain": [
       "44359"
      ]
     },
     "execution_count": 5,
     "metadata": {},
     "output_type": "execute_result"
    }
   ],
   "source": [
    "len(CM_Posts)"
   ]
  },
  {
   "cell_type": "code",
   "execution_count": 6,
   "id": "bcc19c8d",
   "metadata": {},
   "outputs": [
    {
     "data": {
      "text/plain": [
       "51763"
      ]
     },
     "execution_count": 6,
     "metadata": {},
     "output_type": "execute_result"
    }
   ],
   "source": [
    "len(OZ_Posts)"
   ]
  },
  {
   "cell_type": "code",
   "execution_count": 7,
   "id": "6349bfc2",
   "metadata": {},
   "outputs": [
    {
     "data": {
      "text/plain": [
       "63673"
      ]
     },
     "execution_count": 7,
     "metadata": {},
     "output_type": "execute_result"
    }
   ],
   "source": [
    "len(ND_Posts)"
   ]
  },
  {
   "cell_type": "code",
   "execution_count": null,
   "id": "798c21dd",
   "metadata": {},
   "outputs": [],
   "source": [
    "#!pip install sshtunnel\n",
    "#!pip install pymongo"
   ]
  },
  {
   "cell_type": "code",
   "execution_count": 8,
   "id": "ea61b08f",
   "metadata": {},
   "outputs": [
    {
     "name": "stdout",
     "output_type": "stream",
     "text": [
      "Tunnel connected\n",
      "MongoDB connected\n"
     ]
    }
   ],
   "source": [
    "from sshtunnel import SSHTunnelForwarder\n",
    "import pymongo\n",
    "\n",
    "tunnel = SSHTunnelForwarder( # define the tunnel parameters\n",
    "    \"51.124.209.38\",\n",
    "    remote_bind_address=('127.0.0.1', 27017),\n",
    "    ssh_pkey = \"C:/ssh/DBAP_Azure_OpenSSH\",\n",
    "    ssh_username = \"azureuser\",\n",
    ")\n",
    "\n",
    "tunnel.start() # start the tunnel to the VM OS\n",
    "print (\"Tunnel connected\")\n",
    "\n",
    "## start the connection to MongoDB\n",
    "session = pymongo.MongoClient('127.0.0.1', tunnel.local_bind_port) # tunnel.local_bind_port is an assigned blind port on the local machine\n",
    "print (\"MongoDB connected\")"
   ]
  },
  {
   "cell_type": "code",
   "execution_count": 9,
   "id": "d6599bfb",
   "metadata": {
    "scrolled": true
   },
   "outputs": [
    {
     "name": "stdout",
     "output_type": "stream",
     "text": [
      "['Power_Database', 'USWeather_db', 'admin', 'config', 'local']\n"
     ]
    }
   ],
   "source": [
    "import pymongo\n",
    "import pprint\n",
    "\n",
    "database_list = session.list_database_names() \n",
    "pprint.pprint(database_list)"
   ]
  },
  {
   "cell_type": "code",
   "execution_count": 10,
   "id": "5dc0b34a",
   "metadata": {},
   "outputs": [],
   "source": [
    "db = session['CarbonEmissions_Database']"
   ]
  },
  {
   "cell_type": "code",
   "execution_count": 11,
   "id": "646b1653",
   "metadata": {},
   "outputs": [],
   "source": [
    "MT_Coll = db['Methane_Collection'] \n",
    "CM_Coll = db['Carbonmonoxide_Collection'] \n",
    "OZ_Coll = db['Ozone_Collection'] \n",
    "ND_Coll = db['Nitrogendioxide_Collection']\n"
   ]
  },
  {
   "cell_type": "code",
   "execution_count": 12,
   "id": "d4e78e0d",
   "metadata": {
    "scrolled": true
   },
   "outputs": [
    {
     "data": {
      "text/plain": [
       "<pymongo.results.InsertManyResult at 0x24207e4e980>"
      ]
     },
     "execution_count": 12,
     "metadata": {},
     "output_type": "execute_result"
    }
   ],
   "source": [
    "MT_Coll.insert_many(MT_Posts)\n"
   ]
  },
  {
   "cell_type": "code",
   "execution_count": 13,
   "id": "f5e25247",
   "metadata": {},
   "outputs": [
    {
     "data": {
      "text/plain": [
       "<pymongo.results.InsertManyResult at 0x242074b9100>"
      ]
     },
     "execution_count": 13,
     "metadata": {},
     "output_type": "execute_result"
    }
   ],
   "source": [
    "CM_Coll.insert_many(CM_Posts)"
   ]
  },
  {
   "cell_type": "code",
   "execution_count": 14,
   "id": "cc133402",
   "metadata": {},
   "outputs": [
    {
     "data": {
      "text/plain": [
       "<pymongo.results.InsertManyResult at 0x24208a57140>"
      ]
     },
     "execution_count": 14,
     "metadata": {},
     "output_type": "execute_result"
    }
   ],
   "source": [
    "OZ_Coll.insert_many(OZ_Posts)"
   ]
  },
  {
   "cell_type": "code",
   "execution_count": 15,
   "id": "92545f22",
   "metadata": {},
   "outputs": [
    {
     "data": {
      "text/plain": [
       "<pymongo.results.InsertManyResult at 0x24208a56e00>"
      ]
     },
     "execution_count": 15,
     "metadata": {},
     "output_type": "execute_result"
    }
   ],
   "source": [
    "ND_Coll.insert_many(ND_Posts)"
   ]
  },
  {
   "cell_type": "code",
   "execution_count": 16,
   "id": "055dc540",
   "metadata": {},
   "outputs": [],
   "source": [
    "tunnel.close() # close the tunnel"
   ]
  }
 ],
 "metadata": {
  "interpreter": {
   "hash": "b9166679b7960eae5ec60905c6de7fbf69f74d8b9abd3b590631149d05e19d3c"
  },
  "kernelspec": {
   "display_name": "Python 3.10.1 64-bit",
   "language": "python",
   "name": "python3"
  },
  "language_info": {
   "codemirror_mode": {
    "name": "ipython",
    "version": 3
   },
   "file_extension": ".py",
   "mimetype": "text/x-python",
   "name": "python",
   "nbconvert_exporter": "python",
   "pygments_lexer": "ipython3",
   "version": "3.10.1"
  }
 },
 "nbformat": 4,
 "nbformat_minor": 5
}
